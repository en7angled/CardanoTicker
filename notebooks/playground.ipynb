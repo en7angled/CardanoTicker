{
 "cells": [
  {
   "cell_type": "code",
   "execution_count": null,
   "metadata": {},
   "outputs": [],
   "source": [
    "%load_ext autoreload\n",
    "%autoreload 2"
   ]
  },
  {
   "cell_type": "code",
   "execution_count": null,
   "metadata": {},
   "outputs": [],
   "source": [
    "\n",
    "import os\n",
    "import sys\n",
    "\n",
    "from cardano_ticker.utils.currency import PriceCurrency\n",
    "from cardano_ticker.widgets.w_coin_price import BtcPriceWithLogo, EthPriceWithLogo, AdaPriceWithLogo\n",
    "from cardano_ticker.data_fetcher.data_fetcher import DataFetcher"
   ]
  },
  {
   "cell_type": "code",
   "execution_count": null,
   "metadata": {},
   "outputs": [],
   "source": [
    "\n",
    "\n",
    "data_fetcher = DataFetcher()\n"
   ]
  },
  {
   "cell_type": "code",
   "execution_count": null,
   "metadata": {},
   "outputs": [],
   "source": [
    "ROOT_PATH = os.path.abspath('../')\n",
    "ROOT_PATH\n"
   ]
  },
  {
   "cell_type": "code",
   "execution_count": null,
   "metadata": {},
   "outputs": [],
   "source": [
    "import json\n",
    "from cardano_ticker.dashboards.dashboard_generator import DashboardGenerator\n",
    "\n",
    "\n",
    "config_file = os.path.abspath(f'{ROOT_PATH}/src/cardano_ticker/data/config.json')\n",
    "config = json.load(open(config_file, 'r'))\n",
    "data_fetcher = DataFetcher(blockfrost_project_id=config['blockfrost_project_id'])\n",
    "g_dashboard = DashboardGenerator(data_fetcher)\n",
    "\n",
    "\n",
    "\n"
   ]
  },
  {
   "cell_type": "code",
   "execution_count": null,
   "metadata": {},
   "outputs": [],
   "source": [
    "name, ticker = data_fetcher.pool_name_and_ticker(config[\"pool_id\"])\n",
    "\n",
    "value_dict = {\n",
    "    \"pool_name\": f\" [{ticker}] {name} \",\n",
    "    \"pool_id\": config[\"pool_id\"],\n",
    "}\n",
    "pool_dashboard_path = os.path.abspath(f'{ROOT_PATH}/src/cardano_ticker/dashboards/samples/pool_dashboard_example.json')\n",
    "json_data = json.load(open(pool_dashboard_path, 'r'))\n",
    "\n",
    "# update dashboard placeholders\n",
    "json_data = g_dashboard.update_dashboard_description(json_data, value_dict)\n",
    "\n",
    "\n",
    "pool_dashboard = g_dashboard.json_to_layout(json_data)\n",
    "\n",
    "pool_dashboard.render()"
   ]
  },
  {
   "cell_type": "code",
   "execution_count": null,
   "metadata": {},
   "outputs": [],
   "source": [
    "\n",
    "\n",
    "\n",
    "# Load the dashboard json file\n",
    "price_dashboard_path = os.path.abspath(f'{ROOT_PATH}/src/cardano_ticker/dashboards/samples/price_dashboard_example.json')\n",
    "json_data = json.load(open(price_dashboard_path, 'r'))\n",
    "price_dashboard = g_dashboard.json_to_layout(json_data)\n",
    "price_dashboard.render()"
   ]
  },
  {
   "cell_type": "code",
   "execution_count": null,
   "metadata": {},
   "outputs": [],
   "source": [
    "network_dashboard_path = os.path.abspath(f'{ROOT_PATH}/src/cardano_ticker/dashboards/samples/network_dashboard_example.json')\n",
    "json_data = json.load(open(network_dashboard_path, 'r'))\n",
    "network_dashboard = g_dashboard.json_to_layout(json_data)\n",
    "network_dashboard.render()"
   ]
  },
  {
   "cell_type": "code",
   "execution_count": null,
   "metadata": {},
   "outputs": [],
   "source": [
    "\n",
    "\n",
    "\n",
    "currencies = [PriceCurrency.USD, PriceCurrency.ETH, PriceCurrency.ADA]\n",
    "\n",
    "btc_price = BtcPriceWithLogo(data_fetcher, (400,100), currencies, background_color=(0.3,0.3,0.3))\n",
    "btc_price.update()\n",
    "btc_price.get()"
   ]
  },
  {
   "cell_type": "code",
   "execution_count": null,
   "metadata": {},
   "outputs": [],
   "source": [
    "currencies = [PriceCurrency.USD, PriceCurrency.BTC, PriceCurrency.ETH]\n",
    "\n",
    "ada_price = AdaPriceWithLogo(data_fetcher, (400,100), currencies, background_color=(0.3,0.3,0.3))\n",
    "ada_price.update()\n",
    "ada_price.get()"
   ]
  },
  {
   "cell_type": "code",
   "execution_count": null,
   "metadata": {},
   "outputs": [],
   "source": [
    "currencies = [PriceCurrency.USD, PriceCurrency.EUR]\n",
    "\n",
    "eth_price = EthPriceWithLogo(data_fetcher, (400,100), currencies, background_color=(0.3,0.3,0.3))\n",
    "eth_price.update()\n",
    "eth_price.get()"
   ]
  },
  {
   "cell_type": "code",
   "execution_count": null,
   "metadata": {},
   "outputs": [],
   "source": [
    "from cardano_ticker.widgets.w_plot_chart import PlotChart\n",
    "btc_usd_chart = PlotChart(data_fetcher, (400,400), 'BTC', 'USD', background_color=(0.7, 0.7, 0.7))\n",
    "btc_usd_chart.update()\n",
    "btc_usd_chart.get()"
   ]
  },
  {
   "cell_type": "code",
   "execution_count": null,
   "metadata": {},
   "outputs": [],
   "source": [
    "\n",
    "from cardano_ticker.widgets.generic.w_text import MutiTextWidget\n",
    "from PIL import ImageFont\n",
    "\n",
    "# Load fonts\n",
    "f_file = \"/Users/andreigeorgescu/Documents/Develop/eframe/eframe_paper/resources/DejaVuSans.ttf\"\n",
    "font_title = ImageFont.truetype(f_file, 40)\n",
    "\n",
    "\n",
    "title_widget = MutiTextWidget((510, 80), [(\"Cardano Pool Dashboard\", font_title, \"white\")], background_color=\"blue\")\n",
    "title_widget.get()"
   ]
  },
  {
   "cell_type": "code",
   "execution_count": null,
   "metadata": {},
   "outputs": [],
   "source": [
    "\n",
    "data_to_display = {\n",
    "    \"BTC\": {\n",
    "        \"USD\": 1000,\n",
    "        \"ETH\": 0.5\n",
    "    },\n",
    "    \"ADA\": {\n",
    "        \"EUR\": 0.8,\n",
    "        \"ETH\": 0.0005\n",
    "    }\n",
    "}\n",
    "text_parts = []\n",
    "for currency, values in data_to_display.items():\n",
    "    text_parts.append((f\"{currency}\", font_title, \"orange\"))\n",
    "    for currency2, value in values.items():\n",
    "        text_parts.append((f\"\\n   {currency2}:\", font_title, \"white\"))\n",
    "        text_parts.append((f\" {value}\", font_title, \"purple\"))\n",
    "    text_parts.append((\"\\n\", font_title, \"white\"))\n",
    "\n",
    "multi_text_widget2 = MutiTextWidget((510, 300), text_parts, background_color=\"gray\")\n",
    "multi_text_widget2.get()"
   ]
  },
  {
   "cell_type": "code",
   "execution_count": null,
   "metadata": {},
   "outputs": [],
   "source": [
    "from cardano_ticker.widgets.generic.w_table_generic import TableWidget\n",
    "\n",
    "# Sample data\n",
    "data = {\n",
    "    'supply': {\n",
    "        'max': '45000000000000000',\n",
    "        'total': '37516667945629674',\n",
    "        'circulating': '36183827880829453',\n",
    "        'locked': '393347142320576',\n",
    "        'treasury': '1646135439887110',\n",
    "        'reserves': '7483332054370326'\n",
    "    },\n",
    "    'stake': {\n",
    "        'live': '21827731369072329',\n",
    "        'active': '21783994147298654'\n",
    "    }\n",
    "}\n",
    "\n",
    "# Create table widget for delegators and owners\n",
    "font_body = ImageFont.truetype(f_file, 20)\n",
    "\n",
    "\n",
    "# Create table widget for Live Stake and Active Stake\n",
    "headers = [\"Live Stake\", \"Active Stake\"]\n",
    "rows = [[f\"{int(data['stake']['live']) / 1e6} {PriceCurrency.ADA.get_symbol()}\", f\"{int(data['stake']['active']) / 1e6} {PriceCurrency.ADA.get_symbol()}\"]]   \n",
    "stake_info_widget = TableWidget((600, 100), headers, rows, font_body, header_orientation=\"columns\",  header_color=\"black\", row_color=\"blue\", background_color=\"grey\")\n",
    "\n",
    "stake_info_widget.get()"
   ]
  },
  {
   "cell_type": "code",
   "execution_count": null,
   "metadata": {},
   "outputs": [],
   "source": [
    "from cardano_ticker.widgets.generic.w_charts_generic import  PieChartWidget\n",
    "\n",
    "\n",
    "# Create bar widget for supply\n",
    "chart_data  = [ \n",
    "                (\"Circulating\", int(data['supply']['circulating'])),\n",
    "                (\"Locked\", int(data['supply']['locked'])),\n",
    "                (\"Treasury\", int(data['supply']['treasury'])), \n",
    "                (\"Reserves\", int(data['supply']['reserves']))\n",
    "                  ]\n",
    "bar_chart_colors = [ \"green\", \"blue\", \"purple\", \"orange\", \"yellow\"]\n",
    "\n",
    "# Create new widgets\n",
    "chart_widget = PieChartWidget((800, 400), chart_data, bar_chart_colors, background_color=\"white\")\n",
    "chart_widget.get()\n",
    "\n",
    "\n",
    "\n",
    "class SupplyPieChartWidget(PieChartWidget):\n",
    "    def __init__(self, data_fetcher, size, background_color=(0.3, 0.3, 0.3), font_size=20):\n",
    "        super().__init__(size, [], [], background_color, font_size=font_size)\n",
    "        self.data_fetcher = data_fetcher\n",
    "        \n",
    "    def update(self):\n",
    "        data = self.data_fetcher.network()\n",
    "        # Create bar widget for supply\n",
    "        chart_data  = [ \n",
    "                        (\"Circulating\", int(data['supply']['circulating'])),\n",
    "                        (\"Locked\", int(data['supply']['locked'])),\n",
    "                        (\"Treasury\", int(data['supply']['treasury'])), \n",
    "                        (\"Reserves\", int(data['supply']['reserves']))\n",
    "                        ]\n",
    "        bar_chart_colors = [ \"green\", \"blue\", \"purple\", \"orange\"]\n",
    "        super().update(chart_data, bar_chart_colors)\n",
    "\n",
    "\n",
    "supply_pie_chart_widget = SupplyPieChartWidget(data_fetcher, (800, 400), background_color=(0.3, 0.3, 0.3),font_size=14)\n",
    "supply_pie_chart_widget.update()\n",
    "supply_pie_chart_widget.get()\n",
    "\n"
   ]
  },
  {
   "cell_type": "code",
   "execution_count": null,
   "metadata": {},
   "outputs": [],
   "source": [
    "from cardano_ticker.widgets.generic.w_charts_generic import BarChartWidget\n",
    "\n",
    "# Sample data\n",
    "data = {\n",
    "    'supply': {\n",
    "        'max': '45000000000000000',\n",
    "        'total': '37516667945629674',\n",
    "        'circulating': '36183827880829453',\n",
    "        'locked': '393347142320576',\n",
    "        'treasury': '1646135439887110',\n",
    "        'reserves': '7483332054370326'\n",
    "    },\n",
    "    'stake': {\n",
    "        'live': '21827731369072329',\n",
    "        'active': '21783994147298654'\n",
    "    }\n",
    "}\n",
    "# Sample data for new widgets\n",
    "chart_data  = [(\"Live Stake\", int(data['stake']['live'])), (\"Active Stake\", int(data['stake']['active']))]\n",
    "pie_chart_colors = [\"blue\", \"green\"]\n",
    "\n",
    "# Create new widgets\n",
    "pie_chart_widget = BarChartWidget((800, 400), chart_data, pie_chart_colors)\n",
    "pie_chart_widget.get()\n",
    "\n",
    "pie_chart_widget.get()"
   ]
  },
  {
   "cell_type": "code",
   "execution_count": null,
   "metadata": {},
   "outputs": [],
   "source": [
    "\n",
    "pool_info_table = TableWidget((550, 100), headers, rows, font_body, header_orientation=\"rows\",  header_color=\"black\", row_color=\"blue\", background_color=\"grey\")\n",
    "pool_info_table.get()\n"
   ]
  },
  {
   "cell_type": "code",
   "execution_count": null,
   "metadata": {},
   "outputs": [],
   "source": [
    "pool_info_table = TableWidget((550, 100), headers, rows, font_body, header_orientation=\"columns\",  header_color=\"black\", row_color=\"blue\", background_color=\"grey\")\n",
    "pool_info_table.get()\n"
   ]
  },
  {
   "cell_type": "code",
   "execution_count": null,
   "metadata": {},
   "outputs": [],
   "source": [
    "from cardano_ticker.widgets.w_pool_history import AdaPoolHistWidget\n",
    "pool_id = \"pool1sj3gnahsms73uxxu43rgwczdw596en7dtsfcqf6297vzgcedquv\"\n",
    "ada_pool_widget = AdaPoolHistWidget(data_fetcher, (600,400), pool_id, background_color=(0.3,0.3,0.3))\n",
    "ada_pool_widget.render()\n",
    "ada_pool_widget.get()"
   ]
  },
  {
   "cell_type": "code",
   "execution_count": null,
   "metadata": {},
   "outputs": [],
   "source": [
    "from cardano_ticker.widgets.w_blockchain_stats import BlockchainProgressWidget, BlockchainStatsTable, BlockchainTransactionsWidget\n",
    "\n",
    "\n",
    "blockchain_progress_widget = BlockchainProgressWidget(data_fetcher, (100, 40), background_color=(0.3, 0.3, 0.3))\n",
    "blockchain_progress_widget.update()\n",
    "blockchain_progress_widget.get()"
   ]
  },
  {
   "cell_type": "code",
   "execution_count": null,
   "metadata": {},
   "outputs": [],
   "source": [
    "\n",
    "\n",
    "blockchain_stats_table = BlockchainStatsTable(data_fetcher, (650, 100), background_color=\"gray\", header_orientation=\"columns\")\n",
    "blockchain_stats_table.update()\n",
    "blockchain_stats_table.get()\n",
    "\n"
   ]
  },
  {
   "cell_type": "code",
   "execution_count": null,
   "metadata": {},
   "outputs": [],
   "source": [
    "from cardano_ticker.widgets.w_blockchain_stats import BlockchainTransactionsWidget\n",
    "\n",
    "blockchain_transactions_widget = BlockchainTransactionsWidget(data_fetcher, (600, 400), background_color=\"lightgray\", font_size=13)\n",
    "blockchain_transactions_widget.update()\n",
    "blockchain_transactions_widget.get()"
   ]
  },
  {
   "cell_type": "code",
   "execution_count": null,
   "metadata": {},
   "outputs": [],
   "source": []
  },
  {
   "cell_type": "code",
   "execution_count": null,
   "metadata": {},
   "outputs": [],
   "source": []
  },
  {
   "cell_type": "code",
   "execution_count": null,
   "metadata": {},
   "outputs": [],
   "source": []
  }
 ],
 "metadata": {
  "kernelspec": {
   "display_name": "base",
   "language": "python",
   "name": "python3"
  },
  "language_info": {
   "codemirror_mode": {
    "name": "ipython",
    "version": 3
   },
   "file_extension": ".py",
   "mimetype": "text/x-python",
   "name": "python",
   "nbconvert_exporter": "python",
   "pygments_lexer": "ipython3",
   "version": "3.13.1"
  }
 },
 "nbformat": 4,
 "nbformat_minor": 2
}
